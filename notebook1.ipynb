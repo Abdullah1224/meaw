{
  "metadata": {
    "createdOn": 1621415962399,
    "creator": "admin",
    "customFields": {},
    "hide_input": false,
    "interpreter": {
      "hash": "31f2aee4e71d21fbe5cf8b01ff0e069b9275f58929596ceb00d14d90e3e16cd6"
    },
    "kernelspec": {
      "name": "python3",
      "display_name": "Python 3",
      "language": "python"
    },
    "language_info": {
      "name": "python",
      "version": "3.6.8",
      "mimetype": "text/x-python",
      "codemirror_mode": {
        "name": "ipython",
        "version": 3
      },
      "pygments_lexer": "ipython3",
      "nbconvert_exporter": "python",
      "file_extension": ".py"
    },
    "modifiedBy": "admin",
    "tags": [],
    "versionNumber": 1
  },
  "nbformat": 4,
  "nbformat_minor": 1,
  "cells": [
    {
      "execution_count": 0,
      "cell_type": "code",
      "metadata": {},
      "source": [
        "#%pylab inline"
      ],
      "outputs": [
        {
          "ename": "",
          "evalue": "",
          "output_type": "error",
          "traceback": [
            "\u001b[1;31mFailed to start Jupyter in the environment \u0027Python 3.6.8 64-bit (/usr/bin/python3)\u0027. \n",
            "View Jupyter \u003ca href\u003d\u0027command:jupyter.viewOutput\u0027\u003elog\u003c/a\u003e for further details."
          ]
        }
      ]
    },
    {
      "execution_count": 0,
      "cell_type": "code",
      "metadata": {},
      "source": [
        "import dataiku\nfrom dataiku import pandasutils as pdu\nimport pandas as pd"
      ],
      "outputs": []
    },
    {
      "execution_count": 0,
      "cell_type": "code",
      "metadata": {},
      "source": [
        "def vis(theme):\n    #dd lldfdsdfsdfsfdddddwqdqwssssfdfewfewfed\n    import pandas as pd \n    import plotly.express as px\n    import numpy as np\n    import plotly.graph_objs as go\n    import plotly.offline as ply\n    from dash_app.utils.layout.EstFigure import EstFigure\n    from dash_app.utils.layout.HorizontalLayout import HorizontalLayout\n\n    from dash_app.utils.layout.VerticalLayout import VerticalLayout\n    import plotly.express as px\n    import plotly.graph_objs as go\n    ##ddd\n    \n    data \u003d [[28.442980,36.629510,1], [28.442980,35.053320,23], [35.053320,36.629510,1] ,[28.442980,36.629510,7] ]\n    df \u003d pd.DataFrame(data, columns\u003d[\u0027xx\u0027,\u0027yy\u0027,\u0027count\u0027])\n\n    fig\u003dpx.bar(df, x\u003d\u0027xx\u0027,y\u003d\u0027yy\u0027)\n    \n    figures\u003d{\"fig\":fig}\n    x \u003d VerticalLayout([EstFigure(figures)])\n    filters\u003d[] \n    return x ,filters\n\ndef callbacks():\n    pass"
      ],
      "outputs": []
    },
    {
      "execution_count": 0,
      "cell_type": "code",
      "metadata": {},
      "source": [
        "!pwd"
      ],
      "outputs": [
        {
          "name": "stdout",
          "output_type": "stream",
          "text": "/home/dataiku/data/jupyter-run/dku-workdirs/C_PROJECT/notebook10b9b6f22\r\n"
        }
      ]
    },
    {
      "execution_count": 0,
      "cell_type": "code",
      "metadata": {},
      "source": [
        ""
      ],
      "outputs": []
    }
  ]
}